{
 "cells": [
  {
   "cell_type": "code",
   "execution_count": 53,
   "metadata": {},
   "outputs": [
    {
     "name": "stdout",
     "output_type": "stream",
     "text": [
      "-0.06829291737542409\n",
      "OK!\n"
     ]
    }
   ],
   "source": [
    "import numpy as np\n",
    "import numpy.random as rand\n",
    "from scipy.stats.stats import pearsonr\n",
    "import pandas as pd\n",
    "import matplotlib.pyplot as plt\n",
    "\n",
    "p0 = rand.random() * 20.0 - 10.0\n",
    "p1 = rand.random() * 20.0 - 10.0\n",
    "p2 = rand.random() * 20.0 - 10.0\n",
    "\n",
    "X1 = rand.randint(-1000,1000,10)\n",
    "X2 = rand.randint(-1000,1000,10)\n",
    "print(pearsonr(X1,X2)[0])\n",
    "\n",
    "Y = p0 + p1*X1 + p2*X2\n",
    "\n",
    "assert Y.size == X1.size\n",
    "print('OK!')\n"
   ]
  },
  {
   "cell_type": "code",
   "execution_count": 54,
   "metadata": {},
   "outputs": [],
   "source": [
    "data = {'X1': X1,\n",
    "        'X2': X2,\n",
    "        'Y': Y}\n",
    "\n",
    "data = pd.DataFrame(data)\n",
    "data.to_csv('data.csv')"
   ]
  },
  {
   "cell_type": "code",
   "execution_count": 57,
   "metadata": {},
   "outputs": [
    {
     "data": {
      "text/html": [
       "<div>\n",
       "<style scoped>\n",
       "    .dataframe tbody tr th:only-of-type {\n",
       "        vertical-align: middle;\n",
       "    }\n",
       "\n",
       "    .dataframe tbody tr th {\n",
       "        vertical-align: top;\n",
       "    }\n",
       "\n",
       "    .dataframe thead th {\n",
       "        text-align: right;\n",
       "    }\n",
       "</style>\n",
       "<table border=\"1\" class=\"dataframe\">\n",
       "  <thead>\n",
       "    <tr style=\"text-align: right;\">\n",
       "      <th></th>\n",
       "      <th>Unnamed: 0</th>\n",
       "      <th>X1</th>\n",
       "      <th>X2</th>\n",
       "      <th>Y</th>\n",
       "    </tr>\n",
       "  </thead>\n",
       "  <tbody>\n",
       "    <tr>\n",
       "      <th>0</th>\n",
       "      <td>0</td>\n",
       "      <td>-298</td>\n",
       "      <td>-524</td>\n",
       "      <td>-3809.891782</td>\n",
       "    </tr>\n",
       "    <tr>\n",
       "      <th>1</th>\n",
       "      <td>1</td>\n",
       "      <td>563</td>\n",
       "      <td>-810</td>\n",
       "      <td>-1248.230751</td>\n",
       "    </tr>\n",
       "    <tr>\n",
       "      <th>2</th>\n",
       "      <td>2</td>\n",
       "      <td>-785</td>\n",
       "      <td>245</td>\n",
       "      <td>-2403.786945</td>\n",
       "    </tr>\n",
       "    <tr>\n",
       "      <th>3</th>\n",
       "      <td>3</td>\n",
       "      <td>255</td>\n",
       "      <td>616</td>\n",
       "      <td>4059.024948</td>\n",
       "    </tr>\n",
       "    <tr>\n",
       "      <th>4</th>\n",
       "      <td>4</td>\n",
       "      <td>-691</td>\n",
       "      <td>-35</td>\n",
       "      <td>-3293.790523</td>\n",
       "    </tr>\n",
       "  </tbody>\n",
       "</table>\n",
       "</div>"
      ],
      "text/plain": [
       "   Unnamed: 0   X1   X2            Y\n",
       "0           0 -298 -524 -3809.891782\n",
       "1           1  563 -810 -1248.230751\n",
       "2           2 -785  245 -2403.786945\n",
       "3           3  255  616  4059.024948\n",
       "4           4 -691  -35 -3293.790523"
      ]
     },
     "execution_count": 57,
     "metadata": {},
     "output_type": "execute_result"
    }
   ],
   "source": [
    "data = pd.read_csv('data.csv')\n",
    "\n",
    "X1 = np.array(data['X1'])\n",
    "X2 = np.array(data['X2'])\n",
    "Y = np.array(data['Y'])\n",
    "\n",
    "data.head()"
   ]
  },
  {
   "cell_type": "code",
   "execution_count": 61,
   "metadata": {},
   "outputs": [
    {
     "data": {
      "text/plain": [
       "((26, -75, 28), 21085329979.030037, 9)"
      ]
     },
     "execution_count": 61,
     "metadata": {},
     "output_type": "execute_result"
    }
   ],
   "source": [
    "def gradient_descent(X1, X2, Y, eps = 0.01, la = 0.0001, max_iter = 1000): #\"\"\"алгоритм градиентного спуска\"\"\"\n",
    "    p0, p1, p2 = tuple(rand.randint(-100,100,3)) #выбираем случайным образом нач. значения коэфф.\n",
    "    X0 = np.array([1]*X1.size) #X0 - единичный вектор того же размера, что и X1\n",
    "    F = X0*p0 + X1*p1 + X2*p2 #посчитаем значения функции при данных p0,p1,p2\n",
    "    e = Y - F #найдем вектор значений ошибки\n",
    "    Q = e.dot(e.T) #посчитаем сумму квадратов ошибки\n",
    "\n",
    "    for i in range(max_iter): #проведем n итераций для поиска p0,p1,p2\n",
    "        pass#здесь мы найдем градиент функции и рассчитаем delta_p для всех p\n",
    "    return (p0, p1, p2), Q, i\n",
    "\n",
    "gradient_descent(X1, X2, Y, 0.01, 0.0001, 10)"
   ]
  },
  {
   "cell_type": "code",
   "execution_count": 62,
   "metadata": {},
   "outputs": [
    {
     "data": {
      "image/png": "[encoded data removed]",
      "text/plain": [
       "<Figure size 432x288 with 1 Axes>"
      ]
     },
     "metadata": {},
     "output_type": "display_data"
    }
   ],
   "source": [
    "p0 = 26\n",
    "p1 = -75\n",
    "p2 = 28\n",
    "\n",
    "Q = 7883547640.6671\n",
    "i = 9\n",
    "\n",
    "F = p0 + X1*p1 + X2*p2 #p0, p1, p2 – это найденные нами коэффициенты\n",
    "fig, ax = plt.subplots()\n",
    "ax.plot(F,Y,'.',Y,Y,'-')\n",
    "ax.grid()\n",
    "ax.set_xlabel('F')\n",
    "ax.set_ylabel('Y')\n",
    "plt.show()"
   ]
  }
 ],
 "metadata": {
  "kernelspec": {
   "display_name": "Python 3",
   "language": "python",
   "name": "python3"
  },
  "language_info": {
   "codemirror_mode": {
    "name": "ipython",
    "version": 3
   },
   "file_extension": ".py",
   "mimetype": "text/x-python",
   "name": "python",
   "nbconvert_exporter": "python",
   "pygments_lexer": "ipython3",
   "version": "3.6.5"
  }
 },
 "nbformat": 4,
 "nbformat_minor": 2
}
