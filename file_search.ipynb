{
 "cells": [
  {
   "cell_type": "code",
   "execution_count": 2,
   "metadata": {},
   "outputs": [
    {
     "name": "stdout",
     "output_type": "stream",
     "text": [
      "dff\n",
      "Yes\n"
     ]
    }
   ],
   "source": [
    "f = input()\n",
    "w = 0\n",
    "with open('in.txt', 'rt') as f1:\n",
    "    for line in f:\n",
    "        if(f.find(line) > 0): w+=1\n",
    "\n",
    "if(w > 0): print('Yes')\n",
    "else: print('No')"
   ]
  },
  {
   "cell_type": "code",
   "execution_count": 3,
   "metadata": {},
   "outputs": [
    {
     "name": "stdout",
     "output_type": "stream",
     "text": [
      "[Подсказка] Введите имя файла, который хотите найти:\n",
      "0stnuekh.txt\n",
      "0stnuekh.txt имеет путь: c:\\Users\\Vladimir\\AnacondaProjects\\Bruno\\main_folder\\2kfjq4cu\n"
     ]
    }
   ],
   "source": [
    "class route:\n",
    "    def __init__(self, n, way):\n",
    "        self.name = n\n",
    "        self.way = way\n",
    "        #print('[System] Новый файл в библиотеку!')\n",
    "        \n",
    "    def find(self):\n",
    "        print(f'{self.name} имеет путь: {self.way}')\n",
    "\n",
    "#Библиотека файл-путь#\n",
    "\n",
    "routeList = []\n",
    "        \n",
    "routeList.append(route('0stnuekh.txt', 'c:\\\\Users\\\\Vladimir\\\\AnacondaProjects\\\\Bruno\\\\main_folder\\\\2kfjq4cu'))\n",
    "routeList.append(route('do9y153i.txt', 'c:\\\\Users\\\\Vladimir\\\\AnacondaProjects\\\\Bruno\\\\main_folder\\\\k0hys1fi'))\n",
    "\n",
    "#####################\n",
    "\n",
    "print('[Подсказка] Введите имя файла, который хотите найти:')\n",
    "filename = input()\n",
    "\n",
    "for route in routeList:\n",
    "    if filename == route.name:\n",
    "        print(f'{route.name} имеет путь: {route.way}')\n",
    "    "
   ]
  },
  {
   "cell_type": "code",
   "execution_count": null,
   "metadata": {},
   "outputs": [],
   "source": []
  }
 ],
 "metadata": {
  "kernelspec": {
   "display_name": "Python 3",
   "language": "python",
   "name": "python3"
  },
  "language_info": {
   "codemirror_mode": {
    "name": "ipython",
    "version": 3
   },
   "file_extension": ".py",
   "mimetype": "text/x-python",
   "name": "python",
   "nbconvert_exporter": "python",
   "pygments_lexer": "ipython3",
   "version": "3.6.5"
  }
 },
 "nbformat": 4,
 "nbformat_minor": 2
}
