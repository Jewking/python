{
 "cells": [
  {
   "cell_type": "code",
   "execution_count": 3,
   "metadata": {},
   "outputs": [
    {
     "name": "stdout",
     "output_type": "stream",
     "text": [
      "Processing c:\\users\\admin\\psycopg2-2.8.2-cp37-cp37m-win32.whl\n",
      "Installing collected packages: psycopg2\n",
      "Successfully installed psycopg2-2.8.2\n"
     ]
    },
    {
     "name": "stderr",
     "output_type": "stream",
     "text": [
      "twisted 18.7.0 requires PyHamcrest>=1.9.0, which is not installed.\n"
     ]
    }
   ],
   "source": [
    "! pip install psycopg2-2.8.2-cp37-cp37m-win32.whl"
   ]
  },
  {
   "cell_type": "code",
   "execution_count": 22,
   "metadata": {},
   "outputs": [],
   "source": [
    "import psycopg2\n",
    "con = psycopg2.connect(\"host='localhost' \\\n",
    "                        dbname='sqldb' \\\n",
    "                        user='postgres'  \\\n",
    "                        password='pas' \\\n",
    "                        port='1111'\")\n",
    "cur = con.cursor()\n",
    "\n",
    "cur.execute(\"CREATE TABLE Products(Id INTEGER PRIMARY KEY, Name VARCHAR(20), Price INT)\")\n",
    "\n",
    "con.commit()\n",
    "con.close()\n"
   ]
  },
  {
   "cell_type": "code",
   "execution_count": 65,
   "metadata": {},
   "outputs": [],
   "source": [
    "con = psycopg2.connect(\"host='localhost' \\\n",
    "                        dbname='sqldb' \\\n",
    "                        user='postgres'  \\\n",
    "                        password='pas' \\\n",
    "                        port='1111'\")\n",
    "cur = con.cursor()\n",
    "\n",
    "cur.execute(\"INSERT INTO Products VALUES(1,'Milk',5)\")\n",
    "cur.execute(\"INSERT INTO Products VALUES(2,'Sugar',7)\")\n",
    "cur.execute(\"INSERT INTO Products VALUES(3,'Coffee',3)\")\n",
    "cur.execute(\"INSERT INTO Products VALUES(4,'Bread',5)\")\n",
    "cur.execute(\"INSERT INTO Products VALUES(5,'Oranges',3)\")\n",
    "\n",
    "con.commit()\n",
    "con.close()"
   ]
  },
  {
   "cell_type": "code",
   "execution_count": 69,
   "metadata": {},
   "outputs": [
    {
     "name": "stdout",
     "output_type": "stream",
     "text": [
      "Product: \tPrice:\n",
      "Milk \t\t5\n",
      "Sugar \t\t7\n",
      "Coffee \t\t3\n",
      "Bread \t\t5\n",
      "Oranges \t3\n"
     ]
    }
   ],
   "source": [
    "con = None\n",
    "\n",
    "con = psycopg2.connect(\"host='localhost' \\\n",
    "                        dbname='sqldb' \\\n",
    "                        user='postgres'  \\\n",
    "                        password='pas' \\\n",
    "                        port='1111'\")\n",
    "cur = con.cursor()\n",
    "\n",
    "cur.execute(\"SELECT * FROM Products\")\n",
    "\n",
    "print(f\"Product: \\tPrice:\")\n",
    "while True:\n",
    "    row = cur.fetchone()\n",
    "    if row == None:\n",
    "        break\n",
    "        \n",
    "    if len(row[1]) <= 6: str1 = '\\t'\n",
    "    else: str1 = ''\n",
    "    \n",
    "    print(f\"{row[1]} \\t{str1}{row[2]}\")\n",
    "    #print(f\"Product: {row[1]} \\t{str1}Price: {row[2]}\")\n",
    "    \n",
    "con.close()"
   ]
  },
  {
   "cell_type": "code",
   "execution_count": 38,
   "metadata": {},
   "outputs": [],
   "source": [
    "# Изменение\n",
    "\n",
    "con = None\n",
    "\n",
    "con = psycopg2.connect(\"host='localhost' \\\n",
    "                        dbname='sqldb' \\\n",
    "                        user='postgres'  \\\n",
    "                        password='pas' \\\n",
    "                        port='1111'\")\n",
    "cur = con.cursor()\n",
    "                       \n",
    "cur.execute(\"UPDATE Products SET Price=%s WHERE Id=%s\", (1, 4))\n",
    "con.commit()\n",
    "con.close()"
   ]
  },
  {
   "cell_type": "code",
   "execution_count": 63,
   "metadata": {},
   "outputs": [],
   "source": [
    "# Удаление\n",
    "\n",
    "con = None\n",
    "\n",
    "con = psycopg2.connect(\"host='localhost' \\\n",
    "                        dbname='sqldb' \\\n",
    "                        user='postgres'  \\\n",
    "                        password='pas' \\\n",
    "                        port='1111'\")\n",
    "cur = con.cursor()\n",
    "                       \n",
    "cur.execute(\"DELETE FROM Products WHERE Id=\"+str(5))\n",
    "con.commit()\n",
    "con.close()"
   ]
  },
  {
   "cell_type": "code",
   "execution_count": 2,
   "metadata": {},
   "outputs": [
    {
     "data": {
      "text/plain": [
       "'3.7.0 (default, Aug 14 2018, 19:12:50) [MSC v.1900 32 bit (Intel)]'"
      ]
     },
     "execution_count": 2,
     "metadata": {},
     "output_type": "execute_result"
    }
   ],
   "source": [
    "import sys\n",
    "sys.version"
   ]
  },
  {
   "cell_type": "code",
   "execution_count": null,
   "metadata": {},
   "outputs": [],
   "source": []
  },
  {
   "cell_type": "code",
   "execution_count": 42,
   "metadata": {},
   "outputs": [],
   "source": [
    "import zipfile\n",
    "import pandas as pd\n",
    "import psycopg2"
   ]
  },
  {
   "cell_type": "code",
   "execution_count": 44,
   "metadata": {},
   "outputs": [],
   "source": [
    "con = psycopg2.connect(\"host='localhost' \\\n",
    "                        dbname='sqldb' \\\n",
    "                        user='postgres'  \\\n",
    "                        password='pas'\")\n",
    "cur = con.cursor()\n",
    "\n",
    "cur.execute(\"CREATE TABLE Table1(Id INTEGER PRIMARY KEY, Name VARCHAR(20), Value1 INT, Value2 INT, Value3 INT, Value4 VARCHAR(5))\")\n",
    "cur.execute(\"CREATE TABLE Table2(Id INTEGER PRIMARY KEY, Name VARCHAR(20), Value1 INT, Value2 INT, Value3 INT, Value4 VARCHAR(5))\")\n",
    "cur.execute(\"CREATE TABLE Table3(Id INTEGER PRIMARY KEY, Name VARCHAR(20), Value1 INT, Value2 INT, Value3 INT, Value4 VARCHAR(5), Value5 INT, Value6 VARCHAR(5))\")\n",
    "cur.execute(\"CREATE TABLE Table4(Id INTEGER PRIMARY KEY, Name VARCHAR(20), Value1 INT, Value2 INT, Value3 INT, Value4 VARCHAR(5), Value5 INT, Value6 VARCHAR(5))\")\n",
    "\n",
    "con.commit()\n",
    "con.close()"
   ]
  },
  {
   "cell_type": "code",
   "execution_count": 19,
   "metadata": {},
   "outputs": [],
   "source": [
    "archive = zipfile.ZipFile('zipfile.zip', 'r')\n",
    "archive.extractall()"
   ]
  },
  {
   "cell_type": "code",
   "execution_count": 31,
   "metadata": {},
   "outputs": [],
   "source": [
    "table1 = pd.read_csv(\"table1.csv\", sep = ';')\n",
    "table2 = pd.read_csv(\"table2.csv\", sep = ';')\n",
    "table3 = pd.read_csv(\"table3.csv\", sep = ';')\n",
    "table4 = pd.read_csv(\"table4.csv\", sep = ';')"
   ]
  },
  {
   "cell_type": "code",
   "execution_count": 40,
   "metadata": {},
   "outputs": [
    {
     "data": {
      "text/html": [
       "<div>\n",
       "<style scoped>\n",
       "    .dataframe tbody tr th:only-of-type {\n",
       "        vertical-align: middle;\n",
       "    }\n",
       "\n",
       "    .dataframe tbody tr th {\n",
       "        vertical-align: top;\n",
       "    }\n",
       "\n",
       "    .dataframe thead th {\n",
       "        text-align: right;\n",
       "    }\n",
       "</style>\n",
       "<table border=\"1\" class=\"dataframe\">\n",
       "  <thead>\n",
       "    <tr style=\"text-align: right;\">\n",
       "      <th></th>\n",
       "      <th>ID</th>\n",
       "      <th>Name</th>\n",
       "      <th>Value1</th>\n",
       "      <th>Value2</th>\n",
       "      <th>Value3</th>\n",
       "      <th>Value4</th>\n",
       "    </tr>\n",
       "  </thead>\n",
       "  <tbody>\n",
       "    <tr>\n",
       "      <th>0</th>\n",
       "      <td>1</td>\n",
       "      <td>Item1</td>\n",
       "      <td>63</td>\n",
       "      <td>50</td>\n",
       "      <td>3</td>\n",
       "      <td>GOOD</td>\n",
       "    </tr>\n",
       "  </tbody>\n",
       "</table>\n",
       "</div>"
      ],
      "text/plain": [
       "   ID   Name  Value1  Value2  Value3 Value4\n",
       "0   1  Item1      63      50       3   GOOD"
      ]
     },
     "execution_count": 40,
     "metadata": {},
     "output_type": "execute_result"
    }
   ],
   "source": [
    "table1.head(1)"
   ]
  },
  {
   "cell_type": "code",
   "execution_count": 36,
   "metadata": {},
   "outputs": [
    {
     "data": {
      "text/html": [
       "<div>\n",
       "<style scoped>\n",
       "    .dataframe tbody tr th:only-of-type {\n",
       "        vertical-align: middle;\n",
       "    }\n",
       "\n",
       "    .dataframe tbody tr th {\n",
       "        vertical-align: top;\n",
       "    }\n",
       "\n",
       "    .dataframe thead th {\n",
       "        text-align: right;\n",
       "    }\n",
       "</style>\n",
       "<table border=\"1\" class=\"dataframe\">\n",
       "  <thead>\n",
       "    <tr style=\"text-align: right;\">\n",
       "      <th></th>\n",
       "      <th>ID</th>\n",
       "      <th>Name</th>\n",
       "      <th>Value1</th>\n",
       "      <th>Value2</th>\n",
       "      <th>Value3</th>\n",
       "      <th>Value4</th>\n",
       "    </tr>\n",
       "  </thead>\n",
       "  <tbody>\n",
       "    <tr>\n",
       "      <th>0</th>\n",
       "      <td>1</td>\n",
       "      <td>Item1</td>\n",
       "      <td>86</td>\n",
       "      <td>51</td>\n",
       "      <td>2</td>\n",
       "      <td>GOOD</td>\n",
       "    </tr>\n",
       "  </tbody>\n",
       "</table>\n",
       "</div>"
      ],
      "text/plain": [
       "   ID   Name  Value1  Value2  Value3 Value4\n",
       "0   1  Item1      86      51       2   GOOD"
      ]
     },
     "execution_count": 36,
     "metadata": {},
     "output_type": "execute_result"
    }
   ],
   "source": [
    "table2.head(1)"
   ]
  },
  {
   "cell_type": "code",
   "execution_count": 37,
   "metadata": {},
   "outputs": [
    {
     "data": {
      "text/html": [
       "<div>\n",
       "<style scoped>\n",
       "    .dataframe tbody tr th:only-of-type {\n",
       "        vertical-align: middle;\n",
       "    }\n",
       "\n",
       "    .dataframe tbody tr th {\n",
       "        vertical-align: top;\n",
       "    }\n",
       "\n",
       "    .dataframe thead th {\n",
       "        text-align: right;\n",
       "    }\n",
       "</style>\n",
       "<table border=\"1\" class=\"dataframe\">\n",
       "  <thead>\n",
       "    <tr style=\"text-align: right;\">\n",
       "      <th></th>\n",
       "      <th>ID</th>\n",
       "      <th>Name</th>\n",
       "      <th>Value1</th>\n",
       "      <th>Value2</th>\n",
       "      <th>Value3</th>\n",
       "      <th>Value4</th>\n",
       "      <th>Value5</th>\n",
       "      <th>Value6</th>\n",
       "    </tr>\n",
       "  </thead>\n",
       "  <tbody>\n",
       "    <tr>\n",
       "      <th>0</th>\n",
       "      <td>1</td>\n",
       "      <td>Item1</td>\n",
       "      <td>68</td>\n",
       "      <td>55</td>\n",
       "      <td>5</td>\n",
       "      <td>GOOD</td>\n",
       "      <td>1</td>\n",
       "      <td>GOOD</td>\n",
       "    </tr>\n",
       "  </tbody>\n",
       "</table>\n",
       "</div>"
      ],
      "text/plain": [
       "   ID   Name  Value1  Value2  Value3 Value4  Value5 Value6\n",
       "0   1  Item1      68      55       5   GOOD       1   GOOD"
      ]
     },
     "execution_count": 37,
     "metadata": {},
     "output_type": "execute_result"
    }
   ],
   "source": [
    "table3.head(1)"
   ]
  },
  {
   "cell_type": "code",
   "execution_count": 35,
   "metadata": {},
   "outputs": [
    {
     "data": {
      "text/html": [
       "<div>\n",
       "<style scoped>\n",
       "    .dataframe tbody tr th:only-of-type {\n",
       "        vertical-align: middle;\n",
       "    }\n",
       "\n",
       "    .dataframe tbody tr th {\n",
       "        vertical-align: top;\n",
       "    }\n",
       "\n",
       "    .dataframe thead th {\n",
       "        text-align: right;\n",
       "    }\n",
       "</style>\n",
       "<table border=\"1\" class=\"dataframe\">\n",
       "  <thead>\n",
       "    <tr style=\"text-align: right;\">\n",
       "      <th></th>\n",
       "      <th>ID</th>\n",
       "      <th>Name</th>\n",
       "      <th>Value1</th>\n",
       "      <th>Value2</th>\n",
       "      <th>Value3</th>\n",
       "      <th>Value4</th>\n",
       "      <th>Value5</th>\n",
       "      <th>Value6</th>\n",
       "    </tr>\n",
       "  </thead>\n",
       "  <tbody>\n",
       "    <tr>\n",
       "      <th>0</th>\n",
       "      <td>1</td>\n",
       "      <td>Item1</td>\n",
       "      <td>22</td>\n",
       "      <td>50</td>\n",
       "      <td>3</td>\n",
       "      <td>GOOD</td>\n",
       "      <td>2</td>\n",
       "      <td>GOOD</td>\n",
       "    </tr>\n",
       "  </tbody>\n",
       "</table>\n",
       "</div>"
      ],
      "text/plain": [
       "   ID   Name  Value1  Value2  Value3 Value4  Value5 Value6\n",
       "0   1  Item1      22      50       3   GOOD       2   GOOD"
      ]
     },
     "execution_count": 35,
     "metadata": {},
     "output_type": "execute_result"
    }
   ],
   "source": [
    "table4.head(1)"
   ]
  },
  {
   "cell_type": "code",
   "execution_count": 39,
   "metadata": {},
   "outputs": [
    {
     "data": {
      "text/plain": [
       "63"
      ]
     },
     "execution_count": 39,
     "metadata": {},
     "output_type": "execute_result"
    }
   ],
   "source": [
    "table1[\"Value1\"][0]"
   ]
  },
  {
   "cell_type": "code",
   "execution_count": 69,
   "metadata": {},
   "outputs": [],
   "source": [
    "con = psycopg2.connect(\"host='localhost' \\\n",
    "                        dbname='sqldb' \\\n",
    "                        user='postgres'  \\\n",
    "                        password='pas'\")\n",
    "cur = con.cursor()\n",
    "\n",
    "for i in range(20):    \n",
    "    cur.execute(f\"INSERT INTO Table1 VALUES({table1['ID'][i]}, \\\n",
    "                                            '{table1['Name'][i]}', \\\n",
    "                                            {table1['Value1'][i]}, \\\n",
    "                                            {table1['Value2'][i]}, \\\n",
    "                                            {table1['Value3'][i]}, \\\n",
    "                                            '{table1['Value4'][i]}')\")\n",
    "for i in range(18):    \n",
    "    cur.execute(f\"INSERT INTO Table2 VALUES({table2['ID'][i]}, \\\n",
    "                                            '{table2['Name'][i]}', \\\n",
    "                                            {table2['Value1'][i]}, \\\n",
    "                                            {table2['Value2'][i]}, \\\n",
    "                                            {table2['Value3'][i]}, \\\n",
    "                                            '{table2['Value4'][i]}')\")\n",
    "for i in range(20):    \n",
    "    cur.execute(f\"INSERT INTO Table3 VALUES({table3['ID'][i]}, \\\n",
    "                                            '{table3['Name'][i]}', \\\n",
    "                                            {table3['Value1'][i]}, \\\n",
    "                                            {table3['Value2'][i]}, \\\n",
    "                                            {table3['Value3'][i]}, \\\n",
    "                                            '{table3['Value4'][i]}',\\\n",
    "                                            {table3['Value5'][i]}, \\\n",
    "                                            '{table3['Value6'][i]}')\")\n",
    "for i in range(15):    \n",
    "    cur.execute(f\"INSERT INTO Table4 VALUES({table4['ID'][i]}, \\\n",
    "                                            '{table4['Name'][i]}', \\\n",
    "                                            {table4['Value1'][i]}, \\\n",
    "                                            {table4['Value2'][i]}, \\\n",
    "                                            {table4['Value3'][i]}, \\\n",
    "                                            '{table4['Value4'][i]}',\\\n",
    "                                            {table4['Value5'][i]}, \\\n",
    "                                            '{table4['Value6'][i]}')\")\n",
    "con.commit()\n",
    "con.close()"
   ]
  },
  {
   "cell_type": "code",
   "execution_count": 67,
   "metadata": {},
   "outputs": [
    {
     "data": {
      "text/plain": [
       "(20, 8)"
      ]
     },
     "execution_count": 67,
     "metadata": {},
     "output_type": "execute_result"
    }
   ],
   "source": [
    "table3.shape"
   ]
  },
  {
   "cell_type": "code",
   "execution_count": null,
   "metadata": {},
   "outputs": [],
   "source": []
  }
 ],
 "metadata": {
  "kernelspec": {
   "display_name": "Python 3",
   "language": "python",
   "name": "python3"
  },
  "language_info": {
   "codemirror_mode": {
    "name": "ipython",
    "version": 3
   },
   "file_extension": ".py",
   "mimetype": "text/x-python",
   "name": "python",
   "nbconvert_exporter": "python",
   "pygments_lexer": "ipython3",
   "version": "3.6.5"
  }
 },
 "nbformat": 4,
 "nbformat_minor": 2
}
