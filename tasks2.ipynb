{
 "cells": [
  {
   "cell_type": "code",
   "execution_count": 1,
   "metadata": {
    "colab": {
     "base_uri": "https://localhost:8080/",
     "height": 36
    },
    "colab_type": "code",
    "executionInfo": {
     "elapsed": 619,
     "status": "ok",
     "timestamp": 1559907144329,
     "user": {
      "displayName": "Владимир Губин",
      "photoUrl": "https://lh5.googleusercontent.com/--BzE-5eZw0Y/AAAAAAAAAAI/AAAAAAAAAF4/YwmbE2KSiok/s64/photo.jpg",
      "userId": "03579643922050225548"
     },
     "user_tz": -180
    },
    "id": "gkO-klvNzWX4",
    "outputId": "2f0bb234-031c-4b2a-cd7d-cf5889e49bb9"
   },
   "outputs": [
    {
     "name": "stdout",
     "output_type": "stream",
     "text": [
      "0.25\n"
     ]
    }
   ],
   "source": [
    "#Задание 2\n",
    "\n",
    "import math\n",
    "\n",
    "def f(x):\n",
    "    return 4/3 * math.pow(x, 3) - 3 * math.pow(x, 2)\n",
    "\n",
    "def half_divide_method(a, b, e):\n",
    "    x = (a + b)/2\n",
    "    if(f(x-e)<f(x+e)): b = x\n",
    "    else: a = x\n",
    "            \n",
    "    while math.fabs(b-a) <= e:\n",
    "        x = (a + b)/2\n",
    "        if(f(x-e)<f(x+e)): b = x\n",
    "        else: a = x\n",
    "    return (a+b)/2\n",
    "\n",
    "\n",
    "a = -1.0 #a<=x\n",
    "b = 4.0  #x<=b\n",
    "\n",
    "e = 0.01 #точность\n",
    "\n",
    "print(half_divide_method(a,b,e))"
   ]
  },
  {
   "cell_type": "code",
   "execution_count": 1,
   "metadata": {
    "colab": {
     "base_uri": "https://localhost:8080/",
     "height": 36
    },
    "colab_type": "code",
    "executionInfo": {
     "elapsed": 1081,
     "status": "ok",
     "timestamp": 1559907139147,
     "user": {
      "displayName": "Владимир Губин",
      "photoUrl": "https://lh5.googleusercontent.com/--BzE-5eZw0Y/AAAAAAAAAAI/AAAAAAAAAF4/YwmbE2KSiok/s64/photo.jpg",
      "userId": "03579643922050225548"
     },
     "user_tz": -180
    },
    "id": "rzv2Phf5zWYO",
    "outputId": "b5562e4e-186a-46e5-95ff-9c7579050e67"
   },
   "outputs": [
    {
     "data": {
      "text/plain": [
       "[1, 2, 3, 10, 40, 124]"
      ]
     },
     "execution_count": 1,
     "metadata": {
      "tags": []
     },
     "output_type": "execute_result"
    }
   ],
   "source": [
    "#Задание 3\n",
    "\n",
    "def sort_insert(data):\n",
    "    for i in range(len(data)):\n",
    "        j = i - 1 \n",
    "        key = data[i]\n",
    "        while data[j] > key and j >= 0:\n",
    "            data[j + 1] = data[j]\n",
    "            j -= 1\n",
    "        data[j + 1] = key\n",
    "    return data\n",
    "\n",
    "a = [124, 10, 2, 1, 3, 40]\n",
    "sort_insert(a)"
   ]
  },
  {
   "cell_type": "code",
   "execution_count": 0,
   "metadata": {
    "colab": {
     "base_uri": "https://localhost:8080/",
     "height": 276
    },
    "colab_type": "code",
    "executionInfo": {
     "elapsed": 597,
     "status": "ok",
     "timestamp": 1559556486934,
     "user": {
      "displayName": "Владимир Губин",
      "photoUrl": "https://lh5.googleusercontent.com/--BzE-5eZw0Y/AAAAAAAAAAI/AAAAAAAAAF4/YwmbE2KSiok/s64/photo.jpg",
      "userId": "03579643922050225548"
     },
     "user_tz": -180
    },
    "id": "Vb4oCKBkzWYZ",
    "outputId": "5c62d56a-4997-45cf-fbeb-ee700dd6e7fe"
   },
   "outputs": [
    {
     "data": {
      "text/plain": [
       "[[1],\n",
       " [1, 2],\n",
       " [1, 2, 3],\n",
       " [1, 2, 3, 4],\n",
       " [1, 2, 3, 4, 5],\n",
       " [1, 2, 3, 4, 5, 6],\n",
       " [1, 2, 3, 4, 5, 6, 7],\n",
       " [1, 2, 3, 4, 5, 6, 7, 8],\n",
       " [1, 2, 3, 4, 5, 6, 7, 8, 9],\n",
       " [1, 2, 3, 4, 5, 6, 7, 8, 9, 10],\n",
       " [1, 2, 3, 4, 5, 6, 7, 8, 9, 10, 11],\n",
       " [1, 2, 3, 4, 5, 6, 7, 8, 9, 10, 11, 12],\n",
       " [1, 2, 3, 4, 5, 6, 7, 8, 9, 10, 11, 12, 13],\n",
       " [1, 2, 3, 4, 5, 6, 7, 8, 9, 10, 11, 12, 13, 14]]"
      ]
     },
     "execution_count": 6,
     "metadata": {
      "tags": []
     },
     "output_type": "execute_result"
    }
   ],
   "source": [
    "[[j for j in range(1,i+1)] for i in range(1,15)]"
   ]
  },
  {
   "cell_type": "code",
   "execution_count": 3,
   "metadata": {
    "colab": {
     "base_uri": "https://localhost:8080/",
     "height": 74
    },
    "colab_type": "code",
    "executionInfo": {
     "elapsed": 513,
     "status": "ok",
     "timestamp": 1559907161087,
     "user": {
      "displayName": "Владимир Губин",
      "photoUrl": "https://lh5.googleusercontent.com/--BzE-5eZw0Y/AAAAAAAAAAI/AAAAAAAAAF4/YwmbE2KSiok/s64/photo.jpg",
      "userId": "03579643922050225548"
     },
     "user_tz": -180
    },
    "id": "_eHW6gtkzwA8",
    "outputId": "b522e583-e94a-4278-fc5d-72a19c42a423"
   },
   "outputs": [
    {
     "name": "stdout",
     "output_type": "stream",
     "text": [
      "[1, 2, 3, 4, 5, 6, 7, 8, 9, 10, 11, 12, 13, 14]\n",
      "[[1], [1, 2], [1, 2, 3], [1, 2, 3, 4], [1, 2, 3, 4, 5], [1, 2, 3, 4, 5, 6], [1, 2, 3, 4, 5, 6, 7], [1, 2, 3, 4, 5, 6, 7, 8], [1, 2, 3, 4, 5, 6, 7, 8, 9], [1, 2, 3, 4, 5, 6, 7, 8, 9, 10], [1, 2, 3, 4, 5, 6, 7, 8, 9, 10, 11], [1, 2, 3, 4, 5, 6, 7, 8, 9, 10, 11, 12], [1, 2, 3, 4, 5, 6, 7, 8, 9, 10, 11, 12, 13]]\n"
     ]
    }
   ],
   "source": [
    "data = [i for i in range(1,15)]\n",
    "print(data)\n",
    "output = []\n",
    "for i in range (1, len(data)):\n",
    "    output.append(data[:i])\n",
    "print (output)"
   ]
  }
 ],
 "metadata": {
  "colab": {
   "name": "chezhina.ipynb",
   "provenance": [],
   "version": "0.3.2"
  },
  "kernelspec": {
   "display_name": "Python 3",
   "language": "python",
   "name": "python3"
  },
  "language_info": {
   "codemirror_mode": {
    "name": "ipython",
    "version": 3
   },
   "file_extension": ".py",
   "mimetype": "text/x-python",
   "name": "python",
   "nbconvert_exporter": "python",
   "pygments_lexer": "ipython3",
   "version": "3.6.5"
  }
 },
 "nbformat": 4,
 "nbformat_minor": 1
}
